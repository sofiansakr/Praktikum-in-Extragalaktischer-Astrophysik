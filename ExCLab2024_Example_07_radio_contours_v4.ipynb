{
 "cells": [
  {
   "cell_type": "markdown",
   "id": "67bb61d9",
   "metadata": {},
   "source": [
    "## Plot a fits image with contours \n",
    "\n",
    "download a fits file from ASTRON LoTSS DR2 page \n",
    "\n",
    " \n"
   ]
  },
  {
   "cell_type": "code",
   "execution_count": 1,
   "id": "681eab6e",
   "metadata": {},
   "outputs": [
    {
     "name": "stdout",
     "output_type": "stream",
     "text": [
      "SIMPLE  =                    T / conforms to FITS standard                      \n",
      "BITPIX  =                  -64 / array data type                                \n",
      "NAXIS   =                    2 / number of array dimensions                     \n",
      "NAXIS1  =                 9394                                                  \n",
      "NAXIS2  =                 9394                                                  \n",
      "WCSAXES =                    2                                                  \n",
      "CTYPE1  = 'RA---SIN'                                                            \n",
      "CTYPE2  = 'DEC--SIN'                                                            \n",
      "CUNIT1  = 'deg     '                                                            \n",
      "CUNIT2  = 'deg     '                                                            \n",
      "CRPIX1  =                 4697                                                  \n",
      "CRPIX2  =                 4697                                                  \n",
      "CRVAL1  =              15.8222                                                  \n",
      "CRVAL2  =              18.5124                                                  \n",
      "CDELT1  = -0.00041666666666666                                                  \n",
      "CDELT2  = 0.000416666666666666                                                  \n",
      "RADESYS = 'ICRS    '                                                            \n",
      "EQUINOX =               2000.0                                                  \n",
      "LONPOLE =                180.0                                                  \n",
      "LATPOLE =              18.5124                                                  \n",
      "BMAJ    = 0.001666666666666667                                                  \n",
      "BMIN    = 0.001666666666666667                                                  \n",
      "BPA     =                   90                                                  \n",
      "TELESCOP= 'LOFAR   '                                                            \n",
      "RESTFRQ =          143650000.0                                                  \n",
      "OBSERVER= 'LoTSS   '                                                            \n",
      "BUNIT   = 'JY/BEAM '                                                            \n",
      "BTYPE   = 'Intensity'                                                           \n",
      "OBJECT  = 'P015+19 '                                                            \n",
      "ORIGIN  = 'ddf-pipeline v2.2-201-g2e77149'                                      \n"
     ]
    }
   ],
   "source": [
    "from astropy.io import fits\n",
    "lofar_fname = '../../../Extragalaktik_WS2021/LabCourse/P015+19_mosaic-blanked.fits'\n",
    "\n",
    "hdu = fits.open(lofar_fname)\n",
    "\n",
    "print( repr(hdu[0].header) )"
   ]
  },
  {
   "cell_type": "markdown",
   "id": "d0cc0fa1",
   "metadata": {},
   "source": [
    "### plot a fits image with python\n",
    "\n",
    "\n",
    "see \n",
    "   \n",
    "   https://docs.astropy.org/en/stable/visualization/wcsaxes/index.html\n",
    "    \n",
    "    \n",
    "\n",
    "Here we want to do the following:\n",
    "  * open a fits file containing an image \n",
    "  * extract the part of the image to be plotted\n",
    "  * plot the extracted images with celestrial coordinates\n",
    "  \n",
    " \n",
    "A crucial element is the World Coordinate System\n",
    "  * in the header of the fits file there is all information which allows to map pixels in the file to celestrial coordinates \n",
    "  * the astro.wcs module allows us to handle this information \n",
    "  \n",
    "    "
   ]
  },
  {
   "cell_type": "code",
   "execution_count": 3,
   "id": "5d870644",
   "metadata": {},
   "outputs": [
    {
     "name": "stdout",
     "output_type": "stream",
     "text": [
      "SIMPLE  =                    T / conforms to FITS standard                      \n",
      "BITPIX  =                  -64 / array data type                                \n",
      "NAXIS   =                    2 / number of array dimensions                     \n",
      "NAXIS1  =                 9394                                                  \n",
      "NAXIS2  =                 9394                                                  \n",
      "WCSAXES =                    2                                                  \n",
      "CTYPE1  = 'RA---SIN'                                                            \n",
      "CTYPE2  = 'DEC--SIN'                                                            \n",
      "CUNIT1  = 'deg     '                                                            \n",
      "CUNIT2  = 'deg     '                                                            \n",
      "CRPIX1  =                 4697                                                  \n",
      "CRPIX2  =                 4697                                                  \n",
      "CRVAL1  =              15.8222                                                  \n",
      "CRVAL2  =              18.5124                                                  \n",
      "CDELT1  = -0.00041666666666666                                                  \n",
      "CDELT2  = 0.000416666666666666                                                  \n",
      "RADESYS = 'ICRS    '                                                            \n",
      "EQUINOX =               2000.0                                                  \n",
      "LONPOLE =                180.0                                                  \n",
      "LATPOLE =              18.5124                                                  \n",
      "BMAJ    = 0.001666666666666667                                                  \n",
      "BMIN    = 0.001666666666666667                                                  \n",
      "BPA     =                   90                                                  \n",
      "TELESCOP= 'LOFAR   '                                                            \n",
      "RESTFRQ =          143650000.0                                                  \n",
      "OBSERVER= 'LoTSS   '                                                            \n",
      "BUNIT   = 'JY/BEAM '                                                            \n",
      "BTYPE   = 'Intensity'                                                           \n",
      "OBJECT  = 'P015+19 '                                                            \n",
      "ORIGIN  = 'ddf-pipeline v2.2-201-g2e77149'                                      \n",
      "01h02m40.48023283s +19d11m27.97507802s\n",
      "4354.536324716369 6502.997266024086\n"
     ]
    }
   ],
   "source": [
    "from astropy.io import fits\n",
    "from astropy.wcs import WCS\n",
    "from astropy.coordinates import SkyCoord\n",
    "\n",
    "# the data \n",
    "lofar_fname = '../../../Extragalaktik_WS2021/LabCourse/P015+19_mosaic-blanked.fits'\n",
    "\n",
    "# open the LOFAR fits file\n",
    "#   note the [0], it is necessary the fits file could contain multiple images or entries \n",
    "lofar = fits.open(lofar_fname)[0]      \n",
    "print(repr(lofar.header))\n",
    "\n",
    "# the WCS allows us to handle the transformation from pixel coordinates to celestrial coordinates \n",
    "#  example:\n",
    "#     use the wcs_lofar to convert pixel coordinates to celestrial coordinates\n",
    "wcs_lofar = WCS( lofar.header, naxis=2 )\n",
    "p2w = wcs_lofar.pixel_to_world ( 5044, 6325 )\n",
    "print( p2w.to_string('hmsdms') )\n",
    "w2p = wcs_lofar.world_to_pixel ( SkyCoord( \"01h03m53.5s +19d15m55.0s\" ) )\n",
    "print( w2p[0], w2p[1] )"
   ]
  },
  {
   "cell_type": "markdown",
   "id": "6a03d1bc",
   "metadata": {},
   "source": [
    "### create a cutout \n",
    "\n",
    "The LOFAR fits image large, we want to plot only the region of a galaxy\n",
    "\n",
    "To this end we create a cutout, i.e. is pixel matrix which is smaller than the original file \n",
    "\n",
    "NOTE, in this cutout the pixels representing the galaxy of interest have new coordinates, therefore *** the WCS needs to be updated ***"
   ]
  },
  {
   "cell_type": "code",
   "execution_count": 7,
   "id": "c3574459",
   "metadata": {},
   "outputs": [
    {
     "name": "stdout",
     "output_type": "stream",
     "text": [
      "4354.536324716369 6502.997266024086\n",
      "w2p (array(4354.53632472), array(6502.99726602))\n",
      "WCS Keywords\n",
      "\n",
      "Number of WCS axes: 2\n",
      "CTYPE : 'RA---SIN'  'DEC--SIN'  \n",
      "CRVAL : 15.8222  18.5124  \n",
      "CRPIX : 392.0  -1756.0  \n",
      "PC1_1 PC1_2  : 1.0  0.0  \n",
      "PC2_1 PC2_2  : 0.0  1.0  \n",
      "CDELT : -0.00041666666666666  0.000416666666666666  \n",
      "NAXIS : 100  100\n",
      "<SkyCoord (ICRS): (ra, dec) in deg\n",
      "    (15.97291667, 19.26527778)>\n"
     ]
    },
    {
     "data": {
      "text/plain": [
       "<matplotlib.colorbar.Colorbar at 0x12cba8100>"
      ]
     },
     "execution_count": 7,
     "metadata": {},
     "output_type": "execute_result"
    },
    {
     "data": {
      "image/png": "[encoded data removed]",
      "text/plain": [
       "<Figure size 600x600 with 2 Axes>"
      ]
     },
     "metadata": {},
     "output_type": "display_data"
    }
   ],
   "source": [
    "from astropy.io import fits\n",
    "from astropy.wcs import WCS\n",
    "from astropy.nddata import Cutout2D\n",
    "import matplotlib.pyplot as plt\n",
    "from astropy.coordinates import SkyCoord\n",
    "\n",
    "lofar_fname = '../../../Extragalaktik_WS2021/LabCourse/P015+19_mosaic-blanked.fits'\n",
    "lofar = fits.open(lofar_fname)[0]\n",
    "\n",
    "wcs_lofar = WCS( lofar.header, naxis=2  )\n",
    "\n",
    "w2p = wcs_lofar.world_to_pixel ( SkyCoord( \"01h03m53.5s +19d15m55.0s\" ) )\n",
    "print( w2p[0], w2p[1] )\n",
    "\n",
    "# approximate center of radio galaxy of interest (from visual inspection with ds9)\n",
    "#   coCenter : the central position of cutout (in pixel coordinates of original image)\n",
    "#   coSize : the size of the cutout in pixels \n",
    "#   note : the cutout comes with a modified WCS (CRPIX has changed)\n",
    "coCenter = wcs_lofar.world_to_pixel ( SkyCoord( \"01h03m53.5s +19d15m55.0s\" ) ) \n",
    "coSize   = 100 \n",
    "print( 'w2p', repr(w2p))\n",
    "cutout   = Cutout2D(lofar.data, w2p, (coSize,coSize), wcs=wcs_lofar ) \n",
    "print( cutout.wcs )\n",
    "\n",
    "print( SkyCoord( \"01h03m53.5s +19d15m55.0s\" ) )\n",
    "\n",
    "# plot the cutout \n",
    "ax = plt.subplot( projection=cutout.wcs )\n",
    "im = ax.imshow( cutout.data, origin='lower', vmax=0.02 )\n",
    "plt.colorbar(im, label='flux density [Jy/beam]')\n"
   ]
  },
  {
   "cell_type": "markdown",
   "id": "f0ec5135",
   "metadata": {},
   "source": [
    "### Coutour lines\n",
    "\n",
    "We would like to overplot the radio image with countour lines, which can be used later together with an sdss image"
   ]
  },
  {
   "cell_type": "code",
   "execution_count": 1,
   "id": "abb58cd4",
   "metadata": {},
   "outputs": [
    {
     "name": "stdout",
     "output_type": "stream",
     "text": [
      "[0.0025, 0.005, 0.01, 0.02, 0.04, 0.08, 0.16, 0.32, 0.64, 1.28, 2.56, 5.12]\n"
     ]
    },
    {
     "ename": "NameError",
     "evalue": "name 'plt' is not defined",
     "output_type": "error",
     "traceback": [
      "\u001b[0;31m---------------------------------------------------------------------------\u001b[0m",
      "\u001b[0;31mNameError\u001b[0m                                 Traceback (most recent call last)",
      "Cell \u001b[0;32mIn[1], line 7\u001b[0m\n\u001b[1;32m      5\u001b[0m levels \u001b[38;5;241m=\u001b[39m [ sep\u001b[38;5;241m*\u001b[39m\u001b[38;5;241m*\u001b[39mx \u001b[38;5;241m*\u001b[39m lc \u001b[38;5;28;01mfor\u001b[39;00m x \u001b[38;5;129;01min\u001b[39;00m \u001b[38;5;28mrange\u001b[39m(\u001b[38;5;241m12\u001b[39m)]   \u001b[38;5;66;03m# generates a sequence of contour levels\u001b[39;00m\n\u001b[1;32m      6\u001b[0m \u001b[38;5;28mprint\u001b[39m(levels)\n\u001b[0;32m----> 7\u001b[0m \u001b[43mplt\u001b[49m\u001b[38;5;241m.\u001b[39mclf()\n\u001b[1;32m      8\u001b[0m fig \u001b[38;5;241m=\u001b[39m plt\u001b[38;5;241m.\u001b[39mfigure( figsize\u001b[38;5;241m=\u001b[39m(\u001b[38;5;241m10\u001b[39m, \u001b[38;5;241m9\u001b[39m) )\n\u001b[1;32m      9\u001b[0m ax \u001b[38;5;241m=\u001b[39m plt\u001b[38;5;241m.\u001b[39msubplot( projection\u001b[38;5;241m=\u001b[39mcutout\u001b[38;5;241m.\u001b[39mwcs )\n",
      "\u001b[0;31mNameError\u001b[0m: name 'plt' is not defined"
     ]
    }
   ],
   "source": [
    "import numpy as np\n",
    "rms    = 5e-4            # the noise level in the image cutout (rougly)\n",
    "lc     = 5.0 * rms       # lowest contour level\n",
    "sep    = np.sqrt(4.0)    # separation of contour levels\n",
    "levels = [ sep**x * lc for x in range(12)]   # generates a sequence of contour levels\n",
    "print(levels)\n",
    "plt.clf()\n",
    "fig = plt.figure( figsize=(10, 9) )\n",
    "ax = plt.subplot( projection=cutout.wcs )\n",
    "im = ax.imshow( cutout.data, origin='lower', vmax=0.01 )\n",
    "plt.colorbar(im, label='flux density [Jy/beam]')\n",
    "co = ax.contour( cutout.data, levels=levels, colors='red' )"
   ]
  },
  {
   "cell_type": "markdown",
   "id": "2c598695",
   "metadata": {},
   "source": [
    "### Flux density measurement\n",
    "\n",
    "measure the flux density of the radio source and compute the intrinsic radio luminosity of the source\n",
    "\n",
    " *  adjust a region with shape polygon in ds9, corners can be moved, added \n",
    "\n",
    " *  $F_{\\nu, {\\rm integrated}} =  \\int_{\\rm area\\,of\\,interest}  F_\\nu \\,  {\\rm d}A $\n",
    "\n",
    " *  the flux density ('density' refers to per frequency intervall) is given in Jy / beam\n",
    "\n",
    " * the 'sum' in Region/Get Information/Analysis/Statistics' takes the sum over pixels\n",
    "\n",
    " *  we need to convert the beam to pixels\n",
    "\n",
    " * $ F_{\\nu, {\\rm integrated}} =  \\ln(2)  \\frac{ \\pi } {4}  \\times  {\\tt sum} \\times \\frac{ \\tt CDELT1 \\, CDELT2 }{ \\tt BMAJ \\, BMIN }  $ "
   ]
  },
  {
   "cell_type": "markdown",
   "id": "0f536253",
   "metadata": {},
   "source": [
    "### Compare to NVSS and FIRST\n",
    "\n",
    "LOFAR observations are taken at aboyt 150 MHz, DR2 images have a beam size of about 6 arcsec. It might be useful to compare the LOFAR results to images taken at other frequencies, e.g. NVSS at 1.4 GHz and FIRST at 3 GHz\n",
    "\n",
    "*  https://www.cv.nrao.edu/nvss/postage.shtml\n",
    "\n",
    "*  https://third.ucllnl.org/cgi-bin/firstcutout\n",
    "    "
   ]
  },
  {
   "cell_type": "markdown",
   "id": "9b840f92",
   "metadata": {},
   "source": [
    "### You can cross check your source on NED\n",
    "\n",
    "Enter the source position in NED and check if the source is known and what information is available\n",
    "\n",
    " * http://ned.ipac.caltech.edu"
   ]
  },
  {
   "cell_type": "markdown",
   "id": "fe5ebfe6",
   "metadata": {},
   "source": [
    "### Use SDSS positions of sources with spectra to create a region file for ds9\n",
    "\n",
    "We would like to have some radio sources for which the radio emission can be analyzed together with SDSS spectra (e.g. to determine the redshift and to assess which AGN type it is). For many radio sources no SDSS are available and, vice versa, many AGN with SDSS spectra do not show radio emission. To find sources with both information we can show SDSS sources with spectra as regions in ds9.\n",
    " * determine the center of the LOFAR pointing\n",
    " * uses the SDSS interface to get all position of sources with spectra in the field of view of the LOFAR pointing (roughly 110 arcmin radius). You can select all objects with spectra or select galaxies or quasars \n",
    " * after 'Submit Query to Image List' you can copy the list of positions to sdsspos.txt\n",
    " * run the script below\n",
    " * open the LOFAR pointing in ds9 and load the region.reg in Regions"
   ]
  },
  {
   "cell_type": "code",
   "execution_count": 7,
   "id": "2a7bd480",
   "metadata": {},
   "outputs": [
    {
     "name": "stdout",
     "output_type": "stream",
     "text": [
      "<SkyCoord (ICRS): (ra, dec) in deg\n",
      "    (191.55, 49.66666667)>\n"
     ]
    }
   ],
   "source": [
    "from astropy.coordinates import SkyCoord\n",
    "sc_CygA_str = \"12h46m12.0s +49d40m00.0s\"\n",
    "sc_CygA = SkyCoord( sc_CygA_str )\n",
    "print(sc_CygA) "
   ]
  },
  {
   "cell_type": "code",
   "execution_count": 6,
   "id": "01789f21",
   "metadata": {},
   "outputs": [],
   "source": [
    "from astropy import units as u\n",
    "from astropy.coordinates import Angle\n",
    "\n",
    "def isfloat(num):\n",
    "    try:\n",
    "        float(num)\n",
    "        return True\n",
    "    except ValueError:\n",
    "        return False\n",
    "\n",
    "fp = open( 'region.reg', 'w' )\n",
    "for line in open('sdsspos.txt') :\n",
    "    token = line.strip('\\n').split(',')\n",
    "    if len(token) > 2  and isfloat(token[1]) and isfloat(token[2]):\n",
    "        ra, dec = Angle(token[1]+'d'), Angle(token[2]+'d') \n",
    "        print( \"j2000; circle\", ra.to_string(unit=u.hour, sep=':'),  dec.to_string(unit=u.degree, sep=':'),  \"0.2'\", file=fp  )\n",
    "fp.close()"
   ]
  },
  {
   "cell_type": "code",
   "execution_count": 2,
   "id": "0b6b1f7c",
   "metadata": {},
   "outputs": [
    {
     "data": {
      "image/png": "[encoded data removed]",
      "text/plain": [
       "<Figure size 432x288 with 1 Axes>"
      ]
     },
     "metadata": {
      "needs_background": "light"
     },
     "output_type": "display_data"
    }
   ],
   "source": [
    "import matplotlib.pyplot as plt\n",
    "import numpy as np\n",
    "from scipy.stats import linregress\n",
    "\n",
    "# Sample data\n",
    "x = np.array([1, 2, 3, 4, 5])\n",
    "y = np.array([1, 4, 9, 16, 25])\n",
    "errors = np.array([0.5, 0.6, 0.7, 0.8, 0.9])  # Sample standard errors\n",
    "\n",
    "# Plotting\n",
    "plt.errorbar(x, y, yerr=errors, fmt='o', label='Data', capsize=5)\n",
    "\n",
    "# Display coordinates for each data point\n",
    "for i, (x_val, y_val) in enumerate(zip(x, y)):\n",
    "    plt.text(x_val, y_val, f'({x_val}, {y_val})', ha='right')\n",
    "\n",
    "# Fit a line using linear regression\n",
    "slope, intercept, _, _, _ = linregress(x, y)\n",
    "best_fit_line = slope * x + intercept\n",
    "plt.plot(x, best_fit_line, color='red', linestyle='--', label='Best Fit Line')\n",
    "\n",
    "# Connect the data points with a line\n",
    "plt.plot(x, y, linestyle='-', color='blue', alpha=0.5)\n",
    "\n",
    "plt.xlabel('X Axis Label')\n",
    "plt.ylabel('Y Axis Label')\n",
    "plt.title('Plot with Error Bars and Best Fit Line')\n",
    "plt.legend()\n",
    "plt.grid(True)\n",
    "plt.show()\n"
   ]
  },
  {
   "cell_type": "code",
   "execution_count": null,
   "id": "2ae08bd5",
   "metadata": {},
   "outputs": [],
   "source": [
    "import matplotlib.pyplot as plt\n",
    "import numpy as np\n",
    "from scipy.optimize import curve_fit\n",
    "\n",
    "# Sample data\n",
    "x = np.array([1, 2, 3, 4, 5])\n",
    "y = np.array([1, 4, 9, 16, 25])\n",
    "errors = np.array([0.5, 0.6, 0.7, 0.8, 0.9])  # Sample standard errors\n",
    "\n",
    "# Exponential function to fit\n",
    "def exponential_func(x, a, b):\n",
    "    return a * np.exp(b * x)\n",
    "\n",
    "# Perform exponential curve fitting\n",
    "popt, pcov = curve_fit(exponential_func, x, y)\n",
    "\n",
    "# Plotting\n",
    "plt.errorbar(x, y, yerr=errors, fmt='o', label='Data', capsize=5)\n",
    "\n",
    "# Display coordinates for each data point\n",
    "for i, (x_val, y_val) in enumerate(zip(x, y)):\n",
    "    plt.text(x_val, y_val, f'({x_val}, {y_val})', ha='right')\n",
    "\n",
    "# Plot the fitted exponential curve\n",
    "x_fit = np.linspace(min(x), max(x), 100)\n",
    "plt.plot(x_fit, exponential_func(x_fit, *popt), color='red', linestyle='--', label='Exponential Fit')\n",
    "\n",
    "plt.xlabel('X Axis Label')\n",
    "plt.ylabel('Y Axis Label')\n",
    "plt.title('Plot with Error Bars and Exponential Fit')\n",
    "plt.legend()\n",
    "plt.grid(True)\n",
    "plt.show()\n"
   ]
  }
 ],
 "metadata": {
  "kernelspec": {
   "display_name": "Python 3 (ipykernel)",
   "language": "python",
   "name": "python3"
  },
  "language_info": {
   "codemirror_mode": {
    "name": "ipython",
    "version": 3
   },
   "file_extension": ".py",
   "mimetype": "text/x-python",
   "name": "python",
   "nbconvert_exporter": "python",
   "pygments_lexer": "ipython3",
   "version": "3.9.7"
  }
 },
 "nbformat": 4,
 "nbformat_minor": 5
}
