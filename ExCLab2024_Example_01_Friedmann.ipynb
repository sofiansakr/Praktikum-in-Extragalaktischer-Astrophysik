{
 "cells": [
  {
   "cell_type": "markdown",
   "id": "c179f902",
   "metadata": {},
   "source": [
    "## Example 1 : Friedmann model and age of universe \n",
    "\n",
    "### Aims \n",
    "* recap basic programming structures in python\n",
    "* plot a diagram with matplotlib\n",
    "* solve an ordinary differential equation (ODE)\n",
    "* create your own Friedmann models \n",
    "* compute the age of the universe for a given set of cosmological parameters \n",
    "\n",
    "### Tools\n",
    "* basic python\n",
    "* numpy matplotlib"
   ]
  },
  {
   "cell_type": "markdown",
   "id": "c609182b",
   "metadata": {},
   "source": [
    "### Solving an ODE\n",
    "Newton's law of cooling describes how the temperature change in case of the presence of the temperature difference\n",
    "\n",
    "$ \\frac{{\\rm d} T}{{\\rm d} t} = r \\cdot ( T_{\\rm env} - T ) $, \n",
    "\n",
    "where $T_{\\rm env}$ is a large reservoir with a constant temperature. We compute the temperature evolution with using the initial value $T(t=0)=T_0=500\\,{\\rm K}$ and $T_0 = 20\\, {\\rm K}$. We compute the evolution for a time interval $t \\in [0,100]$ \n",
    "\n",
    "We use the Euler method to solve the equation: https://en.wikipedia.org/wiki/Euler_method"
   ]
  },
  {
   "cell_type": "code",
   "execution_count": 38,
   "id": "03120c95",
   "metadata": {},
   "outputs": [
    {
     "data": {
      "image/png": "[encoded data removed]",
      "text/plain": [
       "<Figure size 432x360 with 1 Axes>"
      ]
     },
     "metadata": {
      "needs_background": "light"
     },
     "output_type": "display_data"
    }
   ],
   "source": [
    "import matplotlib.pyplot as plt\n",
    "# initail values and parameters \n",
    "\n",
    "t      =    0     # initial value for time, unit is here arbitray, could be second\n",
    "t_max  =  100 \n",
    "T      =  500     # initial value for temperature, T_0\n",
    "dt     =    0.5   # time step  \n",
    "# r = 0.05  # unit 1/time, note we use default values for arguments in dTdt_func\n",
    "\n",
    "def dTdt_func( T, T_env=20, r=0.05) :\n",
    "    dT_dt = r * ( T_env - T )\n",
    "    return dT_dt\n",
    "\n",
    "# the actual integration \n",
    "tL     = [t]      # initialize lists for plotting \n",
    "TL     = [T]\n",
    "while t < t_max :\n",
    "    dT_dt = dTdt_func( T, T_env, r )   # this is kind of 'velocity' of the change of the temperature \n",
    "    T  = T +  dT_dt * dt               # the actual change is 'velocity' * dt \n",
    "    t  = t + dt \n",
    "    TL.append(T)\n",
    "    tL.append(t)\n",
    "# plotting \n",
    "plt.figure( figsize=( 6,5))\n",
    "plt.plot( tL, TL, '-', lw='3', c='blue', label='T evolution')\n",
    "plt.xlabel( 't  [s]')\n",
    "plt.ylabel( 'T  [K]')\n",
    "plt.title(r'heat conduction  $\\frac{dT}{dt} = r \\cdot ( T_{\\rm env} - T )$ ')\n",
    "# plt.grid()\n",
    "ax = plt.gca() \n",
    "ax.tick_params( axis='both', which='both', direction='in', bottom=True, top=True, left=True, right=True )\n",
    "plt.legend()\n",
    "plt.savefig('heat_conduction.pdf')"
   ]
  },
  {
   "cell_type": "markdown",
   "id": "2b25c747",
   "metadata": {},
   "source": [
    "a more precise integration is using the midpoint method: https://en.wikipedia.org/wiki/Midpoint_method"
   ]
  },
  {
   "cell_type": "code",
   "execution_count": 12,
   "id": "49329c27",
   "metadata": {
    "scrolled": true
   },
   "outputs": [
    {
     "data": {
      "text/plain": [
       "Text(0, 0.5, 'T  [K]')"
      ]
     },
     "execution_count": 12,
     "metadata": {},
     "output_type": "execute_result"
    },
    {
     "data": {
      "image/png": "[encoded data removed]",
      "text/plain": [
       "<Figure size 432x288 with 1 Axes>"
      ]
     },
     "metadata": {
      "needs_background": "light"
     },
     "output_type": "display_data"
    }
   ],
   "source": [
    "import matplotlib.pyplot as plt\n",
    "# initail values and parameters \n",
    "r      =    0.05\n",
    "T_env  =   20\n",
    "t      =    0     # initial value for time\n",
    "t_max  =  100 \n",
    "T      =  500     # initial value for temperature, T_0\n",
    "dt     =    0.5   # time step  \n",
    "\n",
    "def dTdt_func( T, T_env=20, r=0.05) :\n",
    "    dT_dt = r * ( T_env - T )\n",
    "    return dT_dt\n",
    "\n",
    "\n",
    "# the actual integration \n",
    "tL_LF    = [t]      # initialize lists for plotting \n",
    "TL_LF    = [T]\n",
    "while t < t_max :\n",
    "    dT_dt0 = dTdt_func( T, T_env, r )           # this is kind of 'velocity' of the change of the temperature\n",
    "                                                #  at the beginning of the step \n",
    "    T_mid  = T +  dT_dt0 * 0.5*dt               # extrapolate to mid point \n",
    "    dT_dt_mid = dTdt_func( T_mid, T_env, r )    # compute the 'velocity' dTdt at the mid point \n",
    "    T  = T +  dT_dt_mid * dt                    # the actual change is middle 'velocity' * dt \n",
    "    t  = t + dt \n",
    "    TL_LF.append(T)\n",
    "    tL_LF.append(t)\n",
    "# plotting \n",
    "plt.plot( tL_LF, TL_LF, '-')\n",
    "plt.xlabel( 't  [s]')\n",
    "plt.ylabel( 'T  [K]')"
   ]
  },
  {
   "cell_type": "markdown",
   "id": "1ec82a2b",
   "metadata": {},
   "source": [
    "We compare the divverence in the final tempature obtained with the two methods. Note, the step size has been the same for both methods"
   ]
  },
  {
   "cell_type": "code",
   "execution_count": 13,
   "id": "d6c64935",
   "metadata": {},
   "outputs": [
    {
     "data": {
      "text/plain": [
       "Text(0, 0.5, 'T  [K]')"
      ]
     },
     "execution_count": 13,
     "metadata": {},
     "output_type": "execute_result"
    },
    {
     "data": {
      "image/png": "[encoded data removed]",
      "text/plain": [
       "<Figure size 432x288 with 1 Axes>"
      ]
     },
     "metadata": {
      "needs_background": "light"
     },
     "output_type": "display_data"
    }
   ],
   "source": [
    "plt.plot( tL,     TL,      '-', color='blue' )\n",
    "plt.plot( tL_LF,  TL_LF,   '-', color='orange' )\n",
    "plt.xlim( 90, 101 )\n",
    "plt.ylim( 22.5, 25.5  )\n",
    "plt.xlabel( 't  [s]')\n",
    "plt.ylabel( 'T  [K]')"
   ]
  },
  {
   "cell_type": "markdown",
   "id": "1a429ffc",
   "metadata": {},
   "source": [
    "## Excercise 1\n",
    "\n",
    "Compute Friedmann models for a set of cosmological parameters using the expression for the time dependent Hubble constant\n",
    "\n",
    "$ \\quad H^2(a) = \\left( \\frac{\\dot{a}}{a}\\right)^2\n",
    "        = H_0^2 \\left\\{ \\Omega_{\\rm r} \\frac{1}{a^4} + \\Omega_{\\rm m} \\frac{1}{a^3}  + \\Omega_\\Lambda + (1 - \\Omega_{\\rm m} - \\Omega_\\Lambda -  \\Omega_{\\rm r}) \\frac{1}{a^2} \\right\\} $ \n",
    "        \n",
    "see also: https://en.wikipedia.org/wiki/Friedmann_equations \n",
    "        \n",
    "By taking the square root and multiplying by $a$ we obtain an expression for $ {\\rm d} a / { {\\rm d} t $. Note, we define as $H(a) = H_0 \\sqrt{...} $, the Friedmann equation is actually solved by $H(a)$ and $-H(a)$:\n",
    "\n",
    "$ \\quad \\frac{ {\\rm d} a } { {\\rm d} t } = \\pm \\, a \\, H(a) $ \n",
    "\n",
    "Since the expression $H(a)$ diverges for $a=0$ we cannot start \\from the beginning of the universe'. Instead, we solve backwards in time using as initial value \n",
    "\n",
    "$ \\quad a(t_0) = 1 $,\n",
    "\n",
    "where $t_0 = 0$ is the time today. We obtain the expansion parameter $a$ as function of lookback time (world models), see for comparison e.g.   \n",
    "\n",
    "### Do the following:\n",
    "\n",
    "$\\bullet$ create you own Friedman universe (or several of it) for a given set of parameters $(H_0, \\Omega_{\\rm m}, \\Omega_\\Lambda)$ and plot it (them). For inspiration you may have a look at https://de.m.wikipedia.org/wiki/Datei:Mplwp_universe_scale_evolution.svg \n",
    "\n",
    "\n",
    "$\\bullet$ Give the age of the universe, i.e. the total look back time, for your model(s). \n",
    "\n",
    "### More advanced optional tasks\n",
    "\n",
    "$\\bullet$ you may compare to analytic solutions: matter dominate universe $2 a^{3/2}(t) =  3 \\sqrt{\\Omega_{\\rm m}} H_0 t$ with the special case of the Einstein de Sitter Universe $\\Omega_{\\rm m} = 1$, radiation dominated universe $a^2(t) = 2 \\sqrt{\\Omega_{\\rm r}} H_0 t$, dark energy dominated univere $a(t) \\propto \\exp ( \\sqrt{\\Omega_{\\Lambda}} H_0 t )$, see http://fma.if.usp.br/~mlima/AulaRaul2018/Scale-Factor.pdf\n",
    "\n",
    "$\\bullet$ Investigate what values for density parameters are needed to make the universe collapse again? Can a universe with vacuum energy collapse at all? \n",
    "\n",
    "$\\bullet$  At which age of the universe the radiation energy density was equal to the matter energy density  ($\\Omega_{\\rm r} = 1.2 \\cdot 10^{-5}$) ?  Note, you need a reasonably good $a(t)$ for the early evolution of the universe. (Changing the time step with $a$ might be useful here.) \n",
    "\n",
    "### How to compute a collapsing universe\n",
    "\n",
    "$\\bullet$ As indicated, the Friedmann equation above actually has always two solutions: a postive and a negative derivate $H(a)$. In a collapsing universe there is time $t_{\\rm max}$ at which $a(t) = a_{\\rm max}$ and ${\\rm d} a / {\\rm d} t = 0$. \n",
    "\n",
    "$\\bullet$ To compute a collapsing universe we may start at a time $t < t_{\\rm max}$ and $a(t) < a_{\\rm max}$. From such a point in time we may compute backwards and forwards to obtain the evolution of the universe until $t_{\\rm max}$.  At $t_{\\rm max}$ the time dependend Hubble constant becomes zero, we may detect this by finding that the expression in the square root 'wants' to become negative. We prevent this from happening (a negative expression in the square root would be 'unphysical') by swittching to the negative solution ${\\rm d} a / {\\rm d} t  = - \\, a \\, H(a)$, i.e. $a$ is shrinking again (and keeps shrinking until the collapse). \n",
    "\n",
    "\n",
    "$\\bullet$ More formally, we need to consider the acceleration equation\n",
    "\n",
    "$\\frac{\\ddot{a}}{a} \n",
    "= \n",
    "- \\frac{ 4 \\pi G}{3} \\left\\{  \\rho + \\frac{ 3 p }{c^2} \\right\\} \n",
    "=\n",
    "- \\frac{1}{2} H_0 \\left\\{ \\Omega_{\\rm m} \\frac{1}{a^3} ... \\right\\}\n",
    "$\n",
    "\n",
    "and should make sure that the change in $a$ also fulfills the curvature condition. This tells us if we should use the positive or negative solution for $H(a)$. "
   ]
  },
  {
   "cell_type": "code",
   "execution_count": null,
   "id": "88695faf",
   "metadata": {},
   "outputs": [],
   "source": []
  },
  {
   "cell_type": "code",
   "execution_count": null,
   "id": "f64551dc",
   "metadata": {},
   "outputs": [],
   "source": []
  }
 ],
 "metadata": {
  "kernelspec": {
   "display_name": "Python 3 (ipykernel)",
   "language": "python",
   "name": "python3"
  },
  "language_info": {
   "codemirror_mode": {
    "name": "ipython",
    "version": 3
   },
   "file_extension": ".py",
   "mimetype": "text/x-python",
   "name": "python",
   "nbconvert_exporter": "python",
   "pygments_lexer": "ipython3",
   "version": "3.9.17"
  }
 },
 "nbformat": 4,
 "nbformat_minor": 5
}
